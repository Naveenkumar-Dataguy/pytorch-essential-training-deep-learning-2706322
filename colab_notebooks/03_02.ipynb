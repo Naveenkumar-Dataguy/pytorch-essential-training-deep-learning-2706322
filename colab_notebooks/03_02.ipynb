{
  "nbformat": 4,
  "nbformat_minor": 0,
  "metadata": {
    "colab": {
      "provenance": []
    },
    "kernelspec": {
      "name": "python3",
      "display_name": "Python 3"
    },
    "language_info": {
      "name": "python"
    }
  },
  "cells": [
    {
      "cell_type": "markdown",
      "source": [
        "### Tensor attributes"
      ],
      "metadata": {
        "id": "YJCM67w5ssfw"
      }
    },
    {
      "cell_type": "markdown",
      "source": [
        "knowing device location, datatype, dimension, and rank is very important"
      ],
      "metadata": {
        "id": "cwhpun8UdPqs"
      }
    },
    {
      "cell_type": "code",
      "source": [
        "import torch"
      ],
      "metadata": {
        "id": "LbnjrrhFA24A"
      },
      "execution_count": 1,
      "outputs": []
    },
    {
      "cell_type": "code",
      "source": [
        "first_tensor = torch.tensor([1,2,3,4,5,6])"
      ],
      "metadata": {
        "id": "h6d-t1CMLbLw"
      },
      "execution_count": 2,
      "outputs": []
    },
    {
      "cell_type": "markdown",
      "source": [
        "torch.device indicates the tensor’s device location"
      ],
      "metadata": {
        "id": "WoCfL-ntdf-Z"
      }
    },
    {
      "cell_type": "code",
      "source": [
        "first_tensor.device"
      ],
      "metadata": {
        "colab": {
          "base_uri": "https://localhost:8080/"
        },
        "id": "lTDKJljiLirH",
        "outputId": "c547048e-5252-483c-d348-8cec9ef33a60"
      },
      "execution_count": 3,
      "outputs": [
        {
          "output_type": "execute_result",
          "data": {
            "text/plain": [
              "device(type='cpu')"
            ]
          },
          "metadata": {},
          "execution_count": 3
        }
      ]
    },
    {
      "cell_type": "markdown",
      "source": [
        "torch.dtype indicates the tensor’s data type"
      ],
      "metadata": {
        "id": "FMtYA5deeTta"
      }
    },
    {
      "cell_type": "code",
      "source": [
        "first_tensor.dtype"
      ],
      "metadata": {
        "colab": {
          "base_uri": "https://localhost:8080/"
        },
        "id": "G7ar3paeLk05",
        "outputId": "665bbd69-81c9-4b51-b9d5-8f18856868e0"
      },
      "execution_count": 4,
      "outputs": [
        {
          "output_type": "execute_result",
          "data": {
            "text/plain": [
              "torch.int64"
            ]
          },
          "metadata": {},
          "execution_count": 4
        }
      ]
    },
    {
      "cell_type": "markdown",
      "source": [
        "torch.shape shows the tensor’s dimensions"
      ],
      "metadata": {
        "id": "Ob3uj0xpeHhD"
      }
    },
    {
      "cell_type": "code",
      "source": [
        "first_tensor.shape"
      ],
      "metadata": {
        "colab": {
          "base_uri": "https://localhost:8080/"
        },
        "id": "jwdM8h3hPXpu",
        "outputId": "ab669a6e-1fa2-4540-d020-bb8ee61f4ae2"
      },
      "execution_count": 5,
      "outputs": [
        {
          "output_type": "execute_result",
          "data": {
            "text/plain": [
              "torch.Size([6])"
            ]
          },
          "metadata": {},
          "execution_count": 5
        }
      ]
    },
    {
      "cell_type": "markdown",
      "source": [
        "torch.ndim identifies the number of a tensor’s dimensions or rank"
      ],
      "metadata": {
        "id": "C3pNTrzulDll"
      }
    },
    {
      "cell_type": "code",
      "source": [
        "first_tensor.ndim"
      ],
      "metadata": {
        "colab": {
          "base_uri": "https://localhost:8080/"
        },
        "id": "GvzFekF2RLoF",
        "outputId": "7d9a6b0b-4dab-4cd1-de20-1864c39cbf0f"
      },
      "execution_count": 6,
      "outputs": [
        {
          "output_type": "execute_result",
          "data": {
            "text/plain": [
              "1"
            ]
          },
          "metadata": {},
          "execution_count": 6
        }
      ]
    },
    {
      "cell_type": "code",
      "source": [
        "second_tensor = torch.tensor([[1,2,3],[4,5,6],[7,8,9]])"
      ],
      "metadata": {
        "id": "2XrKx86hAv1Z"
      },
      "execution_count": 7,
      "outputs": []
    },
    {
      "cell_type": "code",
      "source": [
        "second_tensor.dtype"
      ],
      "metadata": {
        "colab": {
          "base_uri": "https://localhost:8080/"
        },
        "id": "8RofI1qjFlij",
        "outputId": "b7702ee3-da65-4b84-a39a-72f98a68b455"
      },
      "execution_count": 8,
      "outputs": [
        {
          "output_type": "execute_result",
          "data": {
            "text/plain": [
              "torch.int64"
            ]
          },
          "metadata": {},
          "execution_count": 8
        }
      ]
    },
    {
      "cell_type": "code",
      "source": [
        "second_tensor.shape"
      ],
      "metadata": {
        "colab": {
          "base_uri": "https://localhost:8080/"
        },
        "id": "UHTj7eIwTbX5",
        "outputId": "459d6ce4-b6b1-4e4f-c9cf-56ec0c1dcd01"
      },
      "execution_count": 9,
      "outputs": [
        {
          "output_type": "execute_result",
          "data": {
            "text/plain": [
              "torch.Size([3, 3])"
            ]
          },
          "metadata": {},
          "execution_count": 9
        }
      ]
    },
    {
      "cell_type": "code",
      "source": [
        "second_tensor.ndim"
      ],
      "metadata": {
        "colab": {
          "base_uri": "https://localhost:8080/"
        },
        "id": "sY8jR60xTjAS",
        "outputId": "e053fa54-65cb-46b9-cdbc-be4cc32ea7c9"
      },
      "execution_count": 10,
      "outputs": [
        {
          "output_type": "execute_result",
          "data": {
            "text/plain": [
              "2"
            ]
          },
          "metadata": {},
          "execution_count": 10
        }
      ]
    },
    {
      "cell_type": "markdown",
      "source": [
        "many valuable functions to access attributes, e.g. requires_grad"
      ],
      "metadata": {
        "id": "qYpHvzhykyXe"
      }
    }
  ]
}