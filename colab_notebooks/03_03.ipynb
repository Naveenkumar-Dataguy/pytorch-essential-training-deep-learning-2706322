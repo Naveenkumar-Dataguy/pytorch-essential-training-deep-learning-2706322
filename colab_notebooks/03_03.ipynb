{
  "nbformat": 4,
  "nbformat_minor": 0,
  "metadata": {
    "colab": {
      "provenance": []
    },
    "kernelspec": {
      "name": "python3",
      "display_name": "Python 3"
    },
    "language_info": {
      "name": "python"
    }
  },
  "cells": [
    {
      "cell_type": "markdown",
      "source": [
        "### Tensor data types"
      ],
      "metadata": {
        "id": "zuF3OhhtX2z5"
      }
    },
    {
      "cell_type": "code",
      "source": [
        "import torch"
      ],
      "metadata": {
        "id": "CwMoTk95IQqu"
      },
      "execution_count": 1,
      "outputs": []
    },
    {
      "cell_type": "code",
      "source": [
        "#@title Integer data type tensor\n",
        "int_tensor= torch.tensor([1,2,3,4,5],dtype=torch.int8)\n",
        "int_tensor.dtype"
      ],
      "metadata": {
        "colab": {
          "base_uri": "https://localhost:8080/"
        },
        "id": "P_C8BGobIslX",
        "outputId": "99354d9b-3ab1-4843-bedb-c03be1b21666"
      },
      "execution_count": 2,
      "outputs": [
        {
          "output_type": "execute_result",
          "data": {
            "text/plain": [
              "torch.int8"
            ]
          },
          "metadata": {},
          "execution_count": 2
        }
      ]
    },
    {
      "cell_type": "code",
      "source": [
        "#@title Float data type tensor\n",
        "float_tensor= torch.tensor([6,7,8,9,10], dtype=torch.float32)\n",
        "float_tensor.dtype"
      ],
      "metadata": {
        "colab": {
          "base_uri": "https://localhost:8080/"
        },
        "id": "Knc8eUAKS2uv",
        "outputId": "bffae54e-62a3-4ef2-9df7-0206c88d33bd"
      },
      "execution_count": 3,
      "outputs": [
        {
          "output_type": "execute_result",
          "data": {
            "text/plain": [
              "torch.float32"
            ]
          },
          "metadata": {},
          "execution_count": 3
        }
      ]
    },
    {
      "cell_type": "code",
      "source": [
        "#@title Short data type tensor\n",
        "short_tensor= torch.tensor([6,7,8,9,10], dtype=torch.int16)\n",
        "short_tensor.dtype"
      ],
      "metadata": {
        "colab": {
          "base_uri": "https://localhost:8080/"
        },
        "id": "6CvQrnZvUIr0",
        "outputId": "6a3c376d-4dc6-459a-a4f1-05165b15f441"
      },
      "execution_count": 4,
      "outputs": [
        {
          "output_type": "execute_result",
          "data": {
            "text/plain": [
              "torch.int16"
            ]
          },
          "metadata": {},
          "execution_count": 4
        }
      ]
    },
    {
      "cell_type": "code",
      "source": [
        "#@title Casting a tensor to a new data type (1st way)\n",
        "int_tensor= int_tensor.float()\n",
        "int_tensor.dtype"
      ],
      "metadata": {
        "colab": {
          "base_uri": "https://localhost:8080/"
        },
        "id": "hlfoyGilWFJ_",
        "outputId": "ec88b434-b727-424b-f07f-350eadf9ad1c"
      },
      "execution_count": 5,
      "outputs": [
        {
          "output_type": "execute_result",
          "data": {
            "text/plain": [
              "torch.float32"
            ]
          },
          "metadata": {},
          "execution_count": 5
        }
      ]
    },
    {
      "cell_type": "code",
      "source": [
        "#@title Casting a tensor to a new data type (2nd way)\n",
        "last_tensor = short_tensor.to(dtype=torch.int8)\n",
        "last_tensor.dtype"
      ],
      "metadata": {
        "colab": {
          "base_uri": "https://localhost:8080/"
        },
        "id": "U4hnlaO7WZ2c",
        "outputId": "521cc590-82c8-4a24-cd1e-d3126d58aa8f"
      },
      "execution_count": 6,
      "outputs": [
        {
          "output_type": "execute_result",
          "data": {
            "text/plain": [
              "torch.int8"
            ]
          },
          "metadata": {},
          "execution_count": 6
        }
      ]
    },
    {
      "cell_type": "code",
      "source": [
        "a = float_tensor.int()"
      ],
      "metadata": {
        "id": "mScoPYwv4TEF"
      },
      "execution_count": 9,
      "outputs": []
    },
    {
      "cell_type": "code",
      "source": [
        "a"
      ],
      "metadata": {
        "colab": {
          "base_uri": "https://localhost:8080/"
        },
        "id": "m6Un97JR4gWR",
        "outputId": "71b68359-c57b-474f-f26e-f9a4e9ec6dbb"
      },
      "execution_count": 10,
      "outputs": [
        {
          "output_type": "execute_result",
          "data": {
            "text/plain": [
              "tensor([ 6,  7,  8,  9, 10], dtype=torch.int32)"
            ]
          },
          "metadata": {},
          "execution_count": 10
        }
      ]
    },
    {
      "cell_type": "code",
      "source": [
        "b = float_tensor.long()\n",
        "b.dtype"
      ],
      "metadata": {
        "colab": {
          "base_uri": "https://localhost:8080/"
        },
        "id": "NK_DgeU94g6R",
        "outputId": "3e48b799-120a-435a-ba60-ae748c2ad3bd"
      },
      "execution_count": 13,
      "outputs": [
        {
          "output_type": "execute_result",
          "data": {
            "text/plain": [
              "torch.int64"
            ]
          },
          "metadata": {},
          "execution_count": 13
        }
      ]
    },
    {
      "cell_type": "code",
      "source": [
        "c = float_tensor.short()\n",
        "c.dtype"
      ],
      "metadata": {
        "colab": {
          "base_uri": "https://localhost:8080/"
        },
        "id": "mNy8A3Kr4u_5",
        "outputId": "b3d09a86-8f36-4f88-fac6-3713eb2af00d"
      },
      "execution_count": 15,
      "outputs": [
        {
          "output_type": "execute_result",
          "data": {
            "text/plain": [
              "torch.int16"
            ]
          },
          "metadata": {},
          "execution_count": 15
        }
      ]
    },
    {
      "cell_type": "code",
      "source": [
        "d = float_tensor.half( )\n",
        "d.dtype"
      ],
      "metadata": {
        "colab": {
          "base_uri": "https://localhost:8080/"
        },
        "id": "ZOYlRwBZ462W",
        "outputId": "3e0f0790-88f5-41a3-b87c-61fef3160209"
      },
      "execution_count": 16,
      "outputs": [
        {
          "output_type": "execute_result",
          "data": {
            "text/plain": [
              "torch.float16"
            ]
          },
          "metadata": {},
          "execution_count": 16
        }
      ]
    },
    {
      "cell_type": "code",
      "source": [
        "# Convert float32 to int8 using .type()\n",
        "float_to_int8_tensor_type = float_tensor.type(torch.int8)\n",
        "print(float_to_int8_tensor_type)\n",
        "print(float_to_int8_tensor_type.dtype)"
      ],
      "metadata": {
        "colab": {
          "base_uri": "https://localhost:8080/"
        },
        "id": "6uDPRVsk5XjI",
        "outputId": "d24d61d8-270d-4526-f51c-9453a4bccf75"
      },
      "execution_count": 18,
      "outputs": [
        {
          "output_type": "stream",
          "name": "stdout",
          "text": [
            "tensor([ 6,  7,  8,  9, 10], dtype=torch.int8)\n",
            "torch.int8\n"
          ]
        }
      ]
    }
  ]
}