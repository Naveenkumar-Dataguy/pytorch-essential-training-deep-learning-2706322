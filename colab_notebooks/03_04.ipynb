{
  "nbformat": 4,
  "nbformat_minor": 0,
  "metadata": {
    "colab": {
      "provenance": []
    },
    "kernelspec": {
      "name": "python3",
      "display_name": "Python 3"
    },
    "language_info": {
      "name": "python"
    }
  },
  "cells": [
    {
      "cell_type": "markdown",
      "source": [
        "### Creating tensors from random samples"
      ],
      "metadata": {
        "id": "o459a9X7l9oc"
      }
    },
    {
      "cell_type": "code",
      "execution_count": 1,
      "metadata": {
        "id": "C8-mePkCjaIY"
      },
      "outputs": [],
      "source": [
        "import torch"
      ]
    },
    {
      "cell_type": "code",
      "source": [
        "#@title torch.rand() selects random values from a uniform distribution on the interval [0-1]\n",
        "torch.manual_seed(111)\n",
        "torch.rand(3, 3)"
      ],
      "metadata": {
        "colab": {
          "base_uri": "https://localhost:8080/"
        },
        "id": "SOyxzkDSkF76",
        "outputId": "89e2a644-7db6-4503-eb98-ff71d3f2ecc7"
      },
      "execution_count": 4,
      "outputs": [
        {
          "output_type": "execute_result",
          "data": {
            "text/plain": [
              "tensor([[0.7156, 0.9140, 0.2819],\n",
              "        [0.2581, 0.6311, 0.6001],\n",
              "        [0.9312, 0.2153, 0.6033]])"
            ]
          },
          "metadata": {},
          "execution_count": 4
        }
      ]
    },
    {
      "cell_type": "code",
      "source": [
        "#@title torch.rand() selects random values from a standard normal distribution\n",
        "\n",
        "torch.rand(4,4)"
      ],
      "metadata": {
        "colab": {
          "base_uri": "https://localhost:8080/"
        },
        "id": "AoGi2EscmOMh",
        "outputId": "811f7787-2f6c-46e1-fa03-e33ee2a9a633"
      },
      "execution_count": 5,
      "outputs": [
        {
          "output_type": "execute_result",
          "data": {
            "text/plain": [
              "tensor([[0.7328, 0.1857, 0.5101, 0.7545],\n",
              "        [0.2884, 0.5775, 0.0358, 0.1026],\n",
              "        [0.3419, 0.4400, 0.6341, 0.6224],\n",
              "        [0.6334, 0.8580, 0.1572, 0.7853]])"
            ]
          },
          "metadata": {},
          "execution_count": 5
        }
      ]
    },
    {
      "cell_type": "code",
      "source": [
        "#@title torch.randint() selects random integers generated uniformly between specified low and high values\n",
        "\n",
        "torch.randint(-1, 10, (3, 3))"
      ],
      "metadata": {
        "colab": {
          "base_uri": "https://localhost:8080/"
        },
        "id": "ExYtaTg3qv4M",
        "outputId": "fca88f81-1bb5-4219-856d-bc67308382c8"
      },
      "execution_count": 6,
      "outputs": [
        {
          "output_type": "execute_result",
          "data": {
            "text/plain": [
              "tensor([[1, 0, 1],\n",
              "        [5, 3, 1],\n",
              "        [6, 7, 6]])"
            ]
          },
          "metadata": {},
          "execution_count": 6
        }
      ]
    },
    {
      "cell_type": "code",
      "source": [],
      "metadata": {
        "id": "8VELvScb600W"
      },
      "execution_count": null,
      "outputs": []
    }
  ]
}