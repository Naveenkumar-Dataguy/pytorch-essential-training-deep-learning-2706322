{
  "nbformat": 4,
  "nbformat_minor": 0,
  "metadata": {
    "colab": {
      "provenance": []
    },
    "kernelspec": {
      "name": "python3",
      "display_name": "Python 3"
    },
    "language_info": {
      "name": "python"
    }
  },
  "cells": [
    {
      "cell_type": "markdown",
      "source": [
        "###Tensor operations"
      ],
      "metadata": {
        "id": "bz2Z9CTFxp7M"
      }
    },
    {
      "cell_type": "code",
      "source": [
        "import torch"
      ],
      "metadata": {
        "id": "ma-A9KsVxn27"
      },
      "execution_count": 1,
      "outputs": []
    },
    {
      "cell_type": "code",
      "source": [
        "#@title Indexing 1-dim tensor example\n",
        "one_dim_tensor=torch.tensor([1,2,3,4,5,6,7,8])\n",
        "print(one_dim_tensor[2])\n",
        "print(one_dim_tensor[2].item())"
      ],
      "metadata": {
        "colab": {
          "base_uri": "https://localhost:8080/"
        },
        "id": "gtQZPetsv5EI",
        "outputId": "45eaa3ee-7ec1-427d-9b22-c31d9a898115"
      },
      "execution_count": 2,
      "outputs": [
        {
          "output_type": "stream",
          "name": "stdout",
          "text": [
            "tensor(3)\n",
            "3\n"
          ]
        }
      ]
    },
    {
      "cell_type": "code",
      "source": [
        "one = torch.tensor([1,2,3,4,5])\n",
        "print(one[2])\n",
        "print(one[2].item())"
      ],
      "metadata": {
        "id": "L3Hj-8SGETeJ",
        "outputId": "b868b8af-d2ba-4b4b-b3e5-4ad35769cfee",
        "colab": {
          "base_uri": "https://localhost:8080/"
        }
      },
      "execution_count": 4,
      "outputs": [
        {
          "output_type": "stream",
          "name": "stdout",
          "text": [
            "tensor(3)\n",
            "3\n"
          ]
        }
      ]
    },
    {
      "cell_type": "code",
      "source": [
        "#@title Slicing 1-dim tensor example\n",
        "# [start:end:step]\n",
        "one_dim_tensor[1:4]"
      ],
      "metadata": {
        "colab": {
          "base_uri": "https://localhost:8080/"
        },
        "id": "3WLifjrYxc1M",
        "outputId": "547881d3-d5d2-4fad-e22e-4cb5a6b5bc6e"
      },
      "execution_count": 5,
      "outputs": [
        {
          "output_type": "execute_result",
          "data": {
            "text/plain": [
              "tensor([2, 3, 4])"
            ]
          },
          "metadata": {},
          "execution_count": 5
        }
      ]
    },
    {
      "cell_type": "markdown",
      "source": [],
      "metadata": {
        "id": "z8Oax1MmYRGb"
      }
    },
    {
      "cell_type": "code",
      "source": [
        "#@title Indexing 2-dim tensor example\n",
        "two_dim_tensor=torch.tensor([[1,2,3,4,5,6],[7,8,9,10,11,12],[13,14,15,16,17,18],[19,20,21,22,23,24]])\n",
        "two_dim_tensor[1][3]"
      ],
      "metadata": {
        "colab": {
          "base_uri": "https://localhost:8080/"
        },
        "id": "PFdhpxgC4fTs",
        "outputId": "528323cd-feac-4c66-daf9-a30eb66aebb9"
      },
      "execution_count": 6,
      "outputs": [
        {
          "output_type": "execute_result",
          "data": {
            "text/plain": [
              "tensor(10)"
            ]
          },
          "metadata": {},
          "execution_count": 6
        }
      ]
    },
    {
      "cell_type": "code",
      "source": [
        "print(two_dim_tensor)"
      ],
      "metadata": {
        "id": "5bBrafs0EnFb",
        "outputId": "efec197f-5111-4558-d75e-6c42a61917bd",
        "colab": {
          "base_uri": "https://localhost:8080/"
        }
      },
      "execution_count": 7,
      "outputs": [
        {
          "output_type": "stream",
          "name": "stdout",
          "text": [
            "tensor([[ 1,  2,  3,  4,  5,  6],\n",
            "        [ 7,  8,  9, 10, 11, 12],\n",
            "        [13, 14, 15, 16, 17, 18],\n",
            "        [19, 20, 21, 22, 23, 24]])\n"
          ]
        }
      ]
    },
    {
      "cell_type": "code",
      "source": [
        "two_dim_tensor[1,1:3]"
      ],
      "metadata": {
        "id": "bjt8MZmwEt0v",
        "outputId": "8e458558-3d34-4d95-ffbb-a36bc28e1395",
        "colab": {
          "base_uri": "https://localhost:8080/"
        }
      },
      "execution_count": 10,
      "outputs": [
        {
          "output_type": "execute_result",
          "data": {
            "text/plain": [
              "tensor([8, 9])"
            ]
          },
          "metadata": {},
          "execution_count": 10
        }
      ]
    },
    {
      "cell_type": "code",
      "source": [
        "#@title Slicing 2-dim tensor example\n",
        "print(\"first three elements of the 1st row: \",two_dim_tensor[0, 0:3])\n",
        "print(\"first four elements of the 2nd row: \",two_dim_tensor[1,0:4])"
      ],
      "metadata": {
        "colab": {
          "base_uri": "https://localhost:8080/"
        },
        "id": "j5LezuqT7ICW",
        "outputId": "27059ff2-b5f4-477b-dbfb-0eaba5720726"
      },
      "execution_count": 11,
      "outputs": [
        {
          "output_type": "stream",
          "name": "stdout",
          "text": [
            "first three elements of the 1st row:  tensor([1, 2, 3])\n",
            "first four elements of the 2nd row:  tensor([ 7,  8,  9, 10])\n"
          ]
        }
      ]
    },
    {
      "cell_type": "code",
      "source": [
        "#@title Use indexing to extract the data that meets some criteria\n",
        "two_dim_tensor[two_dim_tensor<11]"
      ],
      "metadata": {
        "colab": {
          "base_uri": "https://localhost:8080/"
        },
        "id": "-Zff8iPy7Pze",
        "outputId": "519b4d93-5077-4904-c975-6828ba614edc"
      },
      "execution_count": 12,
      "outputs": [
        {
          "output_type": "execute_result",
          "data": {
            "text/plain": [
              "tensor([ 1,  2,  3,  4,  5,  6,  7,  8,  9, 10])"
            ]
          },
          "metadata": {},
          "execution_count": 12
        }
      ]
    },
    {
      "cell_type": "code",
      "source": [
        "#@title Combining tensors\n",
        "torch.stack((two_dim_tensor, two_dim_tensor))"
      ],
      "metadata": {
        "colab": {
          "base_uri": "https://localhost:8080/"
        },
        "id": "qb2fPbKG9Nva",
        "outputId": "7ffb7a63-0f0c-405d-fb85-7f9061033251"
      },
      "execution_count": 13,
      "outputs": [
        {
          "output_type": "execute_result",
          "data": {
            "text/plain": [
              "tensor([[[ 1,  2,  3,  4,  5,  6],\n",
              "         [ 7,  8,  9, 10, 11, 12],\n",
              "         [13, 14, 15, 16, 17, 18],\n",
              "         [19, 20, 21, 22, 23, 24]],\n",
              "\n",
              "        [[ 1,  2,  3,  4,  5,  6],\n",
              "         [ 7,  8,  9, 10, 11, 12],\n",
              "         [13, 14, 15, 16, 17, 18],\n",
              "         [19, 20, 21, 22, 23, 24]]])"
            ]
          },
          "metadata": {},
          "execution_count": 13
        }
      ]
    },
    {
      "cell_type": "code",
      "source": [
        "#@title Splitting tensors\n",
        "first_tensor, second_tensor, third_tensor, fourth_tensor=torch.unbind(two_dim_tensor)\n",
        "print(first_tensor, second_tensor, third_tensor, fourth_tensor)"
      ],
      "metadata": {
        "colab": {
          "base_uri": "https://localhost:8080/"
        },
        "id": "_aX0mJmV_DY-",
        "outputId": "1a62a82b-cd63-4aa2-abde-9dcc598415a6"
      },
      "execution_count": 14,
      "outputs": [
        {
          "output_type": "stream",
          "name": "stdout",
          "text": [
            "tensor([1, 2, 3, 4, 5, 6]) tensor([ 7,  8,  9, 10, 11, 12]) tensor([13, 14, 15, 16, 17, 18]) tensor([19, 20, 21, 22, 23, 24])\n"
          ]
        }
      ]
    },
    {
      "cell_type": "code",
      "source": [
        "#@title Splitting 2-dim tensor\n",
        "a = torch.unbind(two_dim_tensor,dim=1)"
      ],
      "metadata": {
        "id": "QgPmqbMhBNDn"
      },
      "execution_count": 16,
      "outputs": []
    },
    {
      "cell_type": "code",
      "source": [
        "print(a)"
      ],
      "metadata": {
        "id": "6_xGUhD9FWod",
        "outputId": "df31db23-0d4b-4ef9-b299-c75af20cfa42",
        "colab": {
          "base_uri": "https://localhost:8080/"
        }
      },
      "execution_count": 17,
      "outputs": [
        {
          "output_type": "stream",
          "name": "stdout",
          "text": [
            "(tensor([ 1,  7, 13, 19]), tensor([ 2,  8, 14, 20]), tensor([ 3,  9, 15, 21]), tensor([ 4, 10, 16, 22]), tensor([ 5, 11, 17, 23]), tensor([ 6, 12, 18, 24]))\n"
          ]
        }
      ]
    },
    {
      "cell_type": "code",
      "source": [
        "print(a[0])"
      ],
      "metadata": {
        "id": "MfntKLjFFc7y",
        "outputId": "bec638af-0213-4419-fca6-56f64d79dea3",
        "colab": {
          "base_uri": "https://localhost:8080/"
        }
      },
      "execution_count": 26,
      "outputs": [
        {
          "output_type": "stream",
          "name": "stdout",
          "text": [
            "tensor([ 1,  7, 13, 19])\n"
          ]
        }
      ]
    },
    {
      "cell_type": "code",
      "source": [],
      "metadata": {
        "id": "6ueivJE4FhE2"
      },
      "execution_count": null,
      "outputs": []
    }
  ]
}