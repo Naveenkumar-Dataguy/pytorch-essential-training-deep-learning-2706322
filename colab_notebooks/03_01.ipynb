{
  "nbformat": 4,
  "nbformat_minor": 0,
  "metadata": {
    "colab": {
      "provenance": []
    },
    "kernelspec": {
      "name": "python3",
      "display_name": "Python 3"
    },
    "language_info": {
      "name": "python"
    }
  },
  "cells": [
    {
      "cell_type": "markdown",
      "source": [
        "### Different ways to create tensors"
      ],
      "metadata": {
        "id": "IZqFiLLP6Q9f"
      }
    },
    {
      "cell_type": "code",
      "source": [
        "import torch\n",
        "import numpy as np"
      ],
      "metadata": {
        "id": "umd7jPIdZ0DV"
      },
      "execution_count": 1,
      "outputs": []
    },
    {
      "cell_type": "code",
      "source": [
        "# initialize a tensor from a Python list\n",
        "tensor_from_list=torch.tensor([1,2,3,4,5])\n",
        "# initialize a tensor from a tuple\n",
        "tensor_from_tuple=torch.tensor((6,7,8,9,10))\n",
        "print(\"Tensor from list:\",tensor_from_list)\n",
        "print(\"Tensor from tuple:\",tensor_from_tuple)"
      ],
      "metadata": {
        "colab": {
          "base_uri": "https://localhost:8080/"
        },
        "id": "zb1bVLtYbYNj",
        "outputId": "6296c07b-ed8f-4ade-f984-9804f0e207f0"
      },
      "execution_count": 2,
      "outputs": [
        {
          "output_type": "stream",
          "name": "stdout",
          "text": [
            "Tensor from list: tensor([1, 2, 3, 4, 5])\n",
            "Tensor from tuple: tensor([ 6,  7,  8,  9, 10])\n"
          ]
        }
      ]
    },
    {
      "cell_type": "code",
      "source": [
        "# initialize a tensor from a ndarray\n",
        "tensor_from_array=torch.tensor(np.array([11,12,13,14,15]))\n",
        "print(\"Tensor from array:\",tensor_from_array)"
      ],
      "metadata": {
        "colab": {
          "base_uri": "https://localhost:8080/"
        },
        "id": "19SW4IVddwGF",
        "outputId": "280efbd4-3e80-4e8c-d33c-645d9929051f"
      },
      "execution_count": 3,
      "outputs": [
        {
          "output_type": "stream",
          "name": "stdout",
          "text": [
            "Tensor from array: tensor([11, 12, 13, 14, 15])\n"
          ]
        }
      ]
    },
    {
      "cell_type": "markdown",
      "source": [
        "#### Different functions for creating tensors:\n",
        "##### torch.empty(), torch.ones(), and torch.zeros()"
      ],
      "metadata": {
        "id": "WKqZezHA8JqY"
      }
    },
    {
      "cell_type": "code",
      "source": [
        "tensor_emp = torch.empty(3,4)\n",
        "print(\"tensor_emp :\",tensor_emp)\n",
        "tensor_zeros = torch.zeros(3,4)\n",
        "print(\"tensor_zeros :\",tensor_zeros)\n",
        "tensor_ones= torch.ones(3,4)\n",
        "print(\"tensor_ones :\",tensor_ones)"
      ],
      "metadata": {
        "id": "9sN85Sa8oN2F",
        "colab": {
          "base_uri": "https://localhost:8080/"
        },
        "outputId": "2859fdc0-cb57-4806-ef41-13c9ede45c51"
      },
      "execution_count": 4,
      "outputs": [
        {
          "output_type": "stream",
          "name": "stdout",
          "text": [
            "tensor_emp : tensor([[-5.7661e-13,  4.5465e-41, -5.7661e-13,  4.5465e-41],\n",
            "        [ 0.0000e+00,  0.0000e+00,  0.0000e+00,  0.0000e+00],\n",
            "        [ 3.3631e-44,  0.0000e+00,  1.3902e-38,  0.0000e+00]])\n",
            "tensor_zeros : tensor([[0., 0., 0., 0.],\n",
            "        [0., 0., 0., 0.],\n",
            "        [0., 0., 0., 0.]])\n",
            "tensor_ones : tensor([[1., 1., 1., 1.],\n",
            "        [1., 1., 1., 1.],\n",
            "        [1., 1., 1., 1.]])\n"
          ]
        }
      ]
    },
    {
      "cell_type": "code",
      "source": [
        "# tensors initialized by size with random values\n",
        "# returns a tensor filled with random numbers from a uniform distribution\n",
        "tensor_rand_un = torch.rand(4,5)\n",
        "print(\"tensor_rand_un :\",tensor_rand_un)\n",
        "# returns a tensor filled with random numbers from a normal distribution\n",
        "tensor_rand_norm = torch.randn(4,5)\n",
        "print(\"tensor_rand_norm :\",tensor_rand_norm)\n",
        "# returns a tensor filled with random integers generated uniformly\n",
        "tensor_rand_int = torch.randint(5,10,(4,5))\n",
        "print(\"tensor_rand_int :\",tensor_rand_int)"
      ],
      "metadata": {
        "id": "uEPf9V0vtBgG",
        "colab": {
          "base_uri": "https://localhost:8080/"
        },
        "outputId": "b0cc0e68-7048-4cef-ef3f-fe424bd5719e"
      },
      "execution_count": 5,
      "outputs": [
        {
          "output_type": "stream",
          "name": "stdout",
          "text": [
            "tensor_rand_un : tensor([[0.3285, 0.5111, 0.8633, 0.7608, 0.2312],\n",
            "        [0.7997, 0.8148, 0.6695, 0.0097, 0.7165],\n",
            "        [0.4134, 0.5817, 0.4679, 0.3066, 0.5928],\n",
            "        [0.7984, 0.1921, 0.9098, 0.0800, 0.1378]])\n",
            "tensor_rand_norm : tensor([[-1.3877,  0.9404, -1.4361, -0.7351,  0.3164],\n",
            "        [ 0.2022, -1.2747, -0.5341,  1.4639, -0.6222],\n",
            "        [-1.2884, -0.2795, -0.9693,  0.3308, -0.1377],\n",
            "        [-0.2036, -1.1447,  0.7205, -0.7928, -0.2182]])\n",
            "tensor_rand_int : tensor([[8, 5, 5, 8, 5],\n",
            "        [8, 9, 9, 6, 6],\n",
            "        [6, 8, 7, 7, 6],\n",
            "        [8, 5, 6, 8, 7]])\n"
          ]
        }
      ]
    },
    {
      "cell_type": "code",
      "source": [
        "# initialize a tensor of ones\n",
        "tensor_ones = torch.ones_like(tensor_rand_int)\n",
        "print(tensor_ones)"
      ],
      "metadata": {
        "colab": {
          "base_uri": "https://localhost:8080/"
        },
        "id": "X3vWpA0hrYxR",
        "outputId": "14dcc643-7ed6-4b96-928c-ac107c2b036b"
      },
      "execution_count": 6,
      "outputs": [
        {
          "output_type": "stream",
          "name": "stdout",
          "text": [
            "tensor([[1, 1, 1, 1, 1],\n",
            "        [1, 1, 1, 1, 1],\n",
            "        [1, 1, 1, 1, 1],\n",
            "        [1, 1, 1, 1, 1]])\n"
          ]
        }
      ]
    },
    {
      "cell_type": "code",
      "source": [
        "t1 = torch.ones((2,3),dtype= torch.int)\n",
        "t1"
      ],
      "metadata": {
        "colab": {
          "base_uri": "https://localhost:8080/"
        },
        "id": "3PNn482myfE0",
        "outputId": "1592e462-8f65-4629-fd00-1024e7b773d5"
      },
      "execution_count": 14,
      "outputs": [
        {
          "output_type": "execute_result",
          "data": {
            "text/plain": [
              "tensor([[1, 1, 1],\n",
              "        [1, 1, 1]], dtype=torch.int32)"
            ]
          },
          "metadata": {},
          "execution_count": 14
        }
      ]
    },
    {
      "cell_type": "code",
      "source": [
        "t2 = torch.ones_like(t1)\n",
        "t2"
      ],
      "metadata": {
        "colab": {
          "base_uri": "https://localhost:8080/"
        },
        "id": "rEruqdx2yoSV",
        "outputId": "ab7c537d-8de7-47c7-df6f-133a8635a39c"
      },
      "execution_count": 15,
      "outputs": [
        {
          "output_type": "execute_result",
          "data": {
            "text/plain": [
              "tensor([[1, 1, 1],\n",
              "        [1, 1, 1]], dtype=torch.int32)"
            ]
          },
          "metadata": {},
          "execution_count": 15
        }
      ]
    },
    {
      "cell_type": "code",
      "source": [
        "t3 = torch.arange(1,10,3)\n",
        "t3"
      ],
      "metadata": {
        "colab": {
          "base_uri": "https://localhost:8080/"
        },
        "id": "q8z7kfu2x36N",
        "outputId": "e5de2610-0897-4e6f-b9d7-37f598249681"
      },
      "execution_count": 16,
      "outputs": [
        {
          "output_type": "execute_result",
          "data": {
            "text/plain": [
              "tensor([1, 4, 7])"
            ]
          },
          "metadata": {},
          "execution_count": 16
        }
      ]
    },
    {
      "cell_type": "code",
      "source": [
        "t4 = torch.arange(1,11).reshape(2,5)\n",
        "t4"
      ],
      "metadata": {
        "id": "qRp4MsDazcyG",
        "outputId": "08f77438-3db2-49d7-f61b-d2b73e8bba24",
        "colab": {
          "base_uri": "https://localhost:8080/"
        }
      },
      "execution_count": 18,
      "outputs": [
        {
          "output_type": "execute_result",
          "data": {
            "text/plain": [
              "tensor([[ 1,  2,  3,  4,  5],\n",
              "        [ 6,  7,  8,  9, 10]])"
            ]
          },
          "metadata": {},
          "execution_count": 18
        }
      ]
    },
    {
      "cell_type": "code",
      "source": [],
      "metadata": {
        "id": "gw9c1MtbzqqT"
      },
      "execution_count": null,
      "outputs": []
    }
  ]
}